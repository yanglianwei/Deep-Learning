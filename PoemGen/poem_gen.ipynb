{
 "cells": [
  {
   "cell_type": "code",
   "execution_count": 1,
   "metadata": {},
   "outputs": [],
   "source": [
    "from __future__ import absolute_import, division, print_function\n",
    "\n",
    "import torch\n",
    "import numpy as np\n",
    "from torch.utils.data import DataLoader\n",
    "from torch import optim\n",
    "from torch import nn\n",
    "from torch.autograd import Variable\n",
    "\n",
    "import os\n",
    "from tqdm.notebook import tqdm\n",
    "import math\n",
    "import matplotlib.pyplot as plt"
   ]
  },
  {
   "cell_type": "code",
   "execution_count": 2,
   "metadata": {},
   "outputs": [],
   "source": [
    "# file params\n",
    "DATA_PATH = \"tang.npz\"\n",
    "MODEL_SAVE_PATH = \"./model\"\n",
    "\n",
    "# model params\n",
    "BATCH_SIZE = 64\n",
    "EMBEDDING_DIM = 128\n",
    "HIDDEN_SIZE = 512\n",
    "NUM_LAYERS = 2\n",
    "\n",
    "# train params\n",
    "EPOCH = 48\n",
    "LEARNING_RATE = 0.001"
   ]
  },
  {
   "cell_type": "code",
   "execution_count": 3,
   "metadata": {},
   "outputs": [],
   "source": [
    "# prepare data\n",
    "def load_data(data_path):\n",
    "    if os.path.exists(data_path):\n",
    "        datas = np.load(data_path, allow_pickle=True)\n",
    "        data = datas['data']\n",
    "        ix2word = datas['ix2word'].item()\n",
    "        word2ix = datas['word2ix'].item()\n",
    "        print('[INFO]: Dataset is loaded successfully')\n",
    "        return data, word2ix, ix2word\n",
    "\n",
    "    else:\n",
    "        print('[ERROR]: No such file named', datapath)\n",
    "        exit(-1)"
   ]
  },
  {
   "cell_type": "code",
   "execution_count": 4,
   "metadata": {},
   "outputs": [],
   "source": [
    "# take a look at a poem randomly\n",
    "def visualize(data, row):\n",
    "    example = str()\n",
    "    for col in range(data.shape[1]):\n",
    "        example += ix2word[data[row,col]]  \n",
    "    print(example)"
   ]
  },
  {
   "cell_type": "code",
   "execution_count": 5,
   "metadata": {},
   "outputs": [],
   "source": [
    "# create the module\n",
    "class LSTM(nn.Module):\n",
    "    def __init__(self, vocab_size, embedding_dim, hidden_size):\n",
    "        super(LSTM, self).__init__()\n",
    "        self.hidden_dim = hidden_size\n",
    "        self.embeddings = nn.Embedding(vocab_size, embedding_dim)\n",
    "        self.lstm = nn.LSTM(embedding_dim, hidden_size=self.hidden_dim,\n",
    "                            num_layers=NUM_LAYERS, batch_first=False)\n",
    "        self.linear = nn.Linear(self.hidden_dim, vocab_size)\n",
    "    \n",
    "    def forward(self, input_, hidden=None):\n",
    "        seq_len, batch_size = input_.size()\n",
    "        if hidden is None:\n",
    "            h_0 = input_.data.new(NUM_LAYERS, batch_size, self.hidden_dim).fill_(0).float()\n",
    "            c_0 = input_.data.new(NUM_LAYERS, batch_size, self.hidden_dim).fill_(0).float()\n",
    "            h_0, c_0 = Variable(h_0), Variable(c_0)\n",
    "        else:\n",
    "            h_0, c_0 = hidden\n",
    "        embeds = self.embeddings(input_)\n",
    "        output, hidden = self.lstm(embeds, (h_0, c_0))\n",
    "        output = self.linear(output.reshape(seq_len * batch_size, -1))\n",
    "        return output, hidden       \n"
   ]
  },
  {
   "cell_type": "code",
   "execution_count": 6,
   "metadata": {},
   "outputs": [],
   "source": [
    "def train(model, device, train_loader, optimizer, epoch, criterion):\n",
    "    running_loss = 0.0\n",
    "    step = 0\n",
    "    model.train()\n",
    "    for i, data in tqdm(enumerate(train_loader)):\n",
    "        data = data.long().transpose(0,1).contiguous().to(device)\n",
    "        optimizer.zero_grad()\n",
    "        input_data, target = Variable(data[:-1, :]), Variable(data[1:, :])\n",
    "        output, _ = model(input_data)\n",
    "        loss = criterion(output, target.view(-1))\n",
    "        loss.backward()\n",
    "        optimizer.step()\n",
    "        running_loss += loss.item()\n",
    "        step += 1\n",
    "        \n",
    "    print(\"Epoch: {}/{}.. \".format(epoch, EPOCH),\n",
    "          \"Training Loss: {:.3f}.. \".format(running_loss/step)) \n",
    "    return running_loss\n",
    "\n",
    "          \n",
    "def test(model, device, eval_loader, criterion):\n",
    "    running_loss = 0.0\n",
    "    step = 0\n",
    "    model.eval()\n",
    "    with torch.no_grad():\n",
    "        for iter, data in enumerate(eval_loader):\n",
    "            data = data.long().transpose(0, 1).contiguous().to(device)\n",
    "            input_data, target = Variable(data[:-1, :]), Variable(data[1:, :])\n",
    "            output, _ = model(input_data)\n",
    "            loss = criterion(output, target.view(-1))\n",
    "            running_loss += loss.item()\n",
    "            step += 1\n",
    "            \n",
    "    print(\"Eval Loss: {:.3f}.. \".format(running_loss/step))\n",
    "    return running_loss"
   ]
  },
  {
   "cell_type": "code",
   "execution_count": 7,
   "metadata": {},
   "outputs": [
    {
     "name": "stdout",
     "output_type": "stream",
     "text": [
      "[INFO]: Dataset is loaded successfully\n"
     ]
    },
    {
     "data": {
      "application/vnd.jupyter.widget-view+json": {
       "model_id": "099c3f14188d4548874a8f03372d4dfd",
       "version_major": 2,
       "version_minor": 0
      },
      "text/plain": [
       "HBox(children=(HTML(value=''), FloatProgress(value=1.0, bar_style='info', layout=Layout(width='20px'), max=1.0…"
      ]
     },
     "metadata": {},
     "output_type": "display_data"
    },
    {
     "name": "stdout",
     "output_type": "stream",
     "text": [
      "\n",
      "Epoch: 1/48..  Training Loss: 2.652.. \n",
      "Eval Loss: 2.486.. \n"
     ]
    },
    {
     "data": {
      "application/vnd.jupyter.widget-view+json": {
       "model_id": "fdbb6aadd6a24dcea8e195f363cb03be",
       "version_major": 2,
       "version_minor": 0
      },
      "text/plain": [
       "HBox(children=(HTML(value=''), FloatProgress(value=1.0, bar_style='info', layout=Layout(width='20px'), max=1.0…"
      ]
     },
     "metadata": {},
     "output_type": "display_data"
    },
    {
     "name": "stdout",
     "output_type": "stream",
     "text": [
      "\n",
      "Epoch: 2/48..  Training Loss: 2.369.. \n",
      "Eval Loss: 2.254.. \n"
     ]
    },
    {
     "data": {
      "application/vnd.jupyter.widget-view+json": {
       "model_id": "b3fce50b0f0b4d7ba2206322e7c78d27",
       "version_major": 2,
       "version_minor": 0
      },
      "text/plain": [
       "HBox(children=(HTML(value=''), FloatProgress(value=1.0, bar_style='info', layout=Layout(width='20px'), max=1.0…"
      ]
     },
     "metadata": {},
     "output_type": "display_data"
    },
    {
     "name": "stdout",
     "output_type": "stream",
     "text": [
      "\n",
      "Epoch: 3/48..  Training Loss: 2.198.. \n",
      "Eval Loss: 2.110.. \n"
     ]
    },
    {
     "data": {
      "application/vnd.jupyter.widget-view+json": {
       "model_id": "5ca368d2cf9f4f1a8dfbcf1a179e4c92",
       "version_major": 2,
       "version_minor": 0
      },
      "text/plain": [
       "HBox(children=(HTML(value=''), FloatProgress(value=1.0, bar_style='info', layout=Layout(width='20px'), max=1.0…"
      ]
     },
     "metadata": {},
     "output_type": "display_data"
    },
    {
     "name": "stdout",
     "output_type": "stream",
     "text": [
      "\n",
      "Epoch: 4/48..  Training Loss: 2.075.. \n",
      "Eval Loss: 1.990.. \n"
     ]
    },
    {
     "data": {
      "application/vnd.jupyter.widget-view+json": {
       "model_id": "d9e444321fd7480f9dc1a97a480dbbe1",
       "version_major": 2,
       "version_minor": 0
      },
      "text/plain": [
       "HBox(children=(HTML(value=''), FloatProgress(value=1.0, bar_style='info', layout=Layout(width='20px'), max=1.0…"
      ]
     },
     "metadata": {},
     "output_type": "display_data"
    },
    {
     "name": "stdout",
     "output_type": "stream",
     "text": [
      "\n",
      "Epoch: 5/48..  Training Loss: 1.980.. \n",
      "Eval Loss: 1.901.. \n"
     ]
    },
    {
     "data": {
      "application/vnd.jupyter.widget-view+json": {
       "model_id": "3f563f219eb84a9b910e9df665787751",
       "version_major": 2,
       "version_minor": 0
      },
      "text/plain": [
       "HBox(children=(HTML(value=''), FloatProgress(value=1.0, bar_style='info', layout=Layout(width='20px'), max=1.0…"
      ]
     },
     "metadata": {},
     "output_type": "display_data"
    },
    {
     "name": "stdout",
     "output_type": "stream",
     "text": [
      "\n",
      "Epoch: 6/48..  Training Loss: 1.903.. \n",
      "Eval Loss: 1.830.. \n"
     ]
    },
    {
     "data": {
      "application/vnd.jupyter.widget-view+json": {
       "model_id": "30541ebad2574aa2935890df8d8da8f5",
       "version_major": 2,
       "version_minor": 0
      },
      "text/plain": [
       "HBox(children=(HTML(value=''), FloatProgress(value=1.0, bar_style='info', layout=Layout(width='20px'), max=1.0…"
      ]
     },
     "metadata": {},
     "output_type": "display_data"
    },
    {
     "name": "stdout",
     "output_type": "stream",
     "text": [
      "\n",
      "Epoch: 7/48..  Training Loss: 1.838.. \n",
      "Eval Loss: 1.767.. \n"
     ]
    },
    {
     "data": {
      "application/vnd.jupyter.widget-view+json": {
       "model_id": "3ce21c335862437db00d4a147e51bf1e",
       "version_major": 2,
       "version_minor": 0
      },
      "text/plain": [
       "HBox(children=(HTML(value=''), FloatProgress(value=1.0, bar_style='info', layout=Layout(width='20px'), max=1.0…"
      ]
     },
     "metadata": {},
     "output_type": "display_data"
    },
    {
     "name": "stdout",
     "output_type": "stream",
     "text": [
      "\n",
      "Epoch: 8/48..  Training Loss: 1.784.. \n",
      "Eval Loss: 1.714.. \n"
     ]
    },
    {
     "data": {
      "application/vnd.jupyter.widget-view+json": {
       "model_id": "1e950101223a4e0a91c58533ce9dc678",
       "version_major": 2,
       "version_minor": 0
      },
      "text/plain": [
       "HBox(children=(HTML(value=''), FloatProgress(value=1.0, bar_style='info', layout=Layout(width='20px'), max=1.0…"
      ]
     },
     "metadata": {},
     "output_type": "display_data"
    },
    {
     "name": "stdout",
     "output_type": "stream",
     "text": [
      "\n",
      "Epoch: 9/48..  Training Loss: 1.736.. \n",
      "Eval Loss: 1.666.. \n"
     ]
    },
    {
     "data": {
      "application/vnd.jupyter.widget-view+json": {
       "model_id": "f4d61884c9ad4a3285db19d8e20ca95b",
       "version_major": 2,
       "version_minor": 0
      },
      "text/plain": [
       "HBox(children=(HTML(value=''), FloatProgress(value=1.0, bar_style='info', layout=Layout(width='20px'), max=1.0…"
      ]
     },
     "metadata": {},
     "output_type": "display_data"
    },
    {
     "name": "stdout",
     "output_type": "stream",
     "text": [
      "\n",
      "Epoch: 10/48..  Training Loss: 1.696.. \n",
      "Eval Loss: 1.626.. \n"
     ]
    },
    {
     "data": {
      "application/vnd.jupyter.widget-view+json": {
       "model_id": "024814fde05b45c9bd42f877b06d8ec5",
       "version_major": 2,
       "version_minor": 0
      },
      "text/plain": [
       "HBox(children=(HTML(value=''), FloatProgress(value=1.0, bar_style='info', layout=Layout(width='20px'), max=1.0…"
      ]
     },
     "metadata": {},
     "output_type": "display_data"
    },
    {
     "name": "stdout",
     "output_type": "stream",
     "text": [
      "\n",
      "Epoch: 11/48..  Training Loss: 1.658.. \n",
      "Eval Loss: 1.605.. \n"
     ]
    },
    {
     "data": {
      "application/vnd.jupyter.widget-view+json": {
       "model_id": "e61eb7e2b4344052a02d8012905effaf",
       "version_major": 2,
       "version_minor": 0
      },
      "text/plain": [
       "HBox(children=(HTML(value=''), FloatProgress(value=1.0, bar_style='info', layout=Layout(width='20px'), max=1.0…"
      ]
     },
     "metadata": {},
     "output_type": "display_data"
    },
    {
     "name": "stdout",
     "output_type": "stream",
     "text": [
      "\n",
      "Epoch: 12/48..  Training Loss: 1.622.. \n",
      "Eval Loss: 1.559.. \n"
     ]
    },
    {
     "data": {
      "application/vnd.jupyter.widget-view+json": {
       "model_id": "8b28596ce4ba427a97ac1b865e039350",
       "version_major": 2,
       "version_minor": 0
      },
      "text/plain": [
       "HBox(children=(HTML(value=''), FloatProgress(value=1.0, bar_style='info', layout=Layout(width='20px'), max=1.0…"
      ]
     },
     "metadata": {},
     "output_type": "display_data"
    },
    {
     "name": "stdout",
     "output_type": "stream",
     "text": [
      "\n",
      "Epoch: 13/48..  Training Loss: 1.590.. \n",
      "Eval Loss: 1.529.. \n"
     ]
    },
    {
     "data": {
      "application/vnd.jupyter.widget-view+json": {
       "model_id": "798feeeec0924ff8ab84f766888f8986",
       "version_major": 2,
       "version_minor": 0
      },
      "text/plain": [
       "HBox(children=(HTML(value=''), FloatProgress(value=1.0, bar_style='info', layout=Layout(width='20px'), max=1.0…"
      ]
     },
     "metadata": {},
     "output_type": "display_data"
    },
    {
     "name": "stdout",
     "output_type": "stream",
     "text": [
      "\n",
      "Epoch: 14/48..  Training Loss: 1.558.. \n",
      "Eval Loss: 1.482.. \n"
     ]
    },
    {
     "data": {
      "application/vnd.jupyter.widget-view+json": {
       "model_id": "7dd308e36880476eb7543571b5305c6e",
       "version_major": 2,
       "version_minor": 0
      },
      "text/plain": [
       "HBox(children=(HTML(value=''), FloatProgress(value=1.0, bar_style='info', layout=Layout(width='20px'), max=1.0…"
      ]
     },
     "metadata": {},
     "output_type": "display_data"
    },
    {
     "name": "stdout",
     "output_type": "stream",
     "text": [
      "\n",
      "Epoch: 15/48..  Training Loss: 1.532.. \n",
      "Eval Loss: 1.494.. \n"
     ]
    },
    {
     "data": {
      "application/vnd.jupyter.widget-view+json": {
       "model_id": "f835e0d72dea44748cf9ef057908ce48",
       "version_major": 2,
       "version_minor": 0
      },
      "text/plain": [
       "HBox(children=(HTML(value=''), FloatProgress(value=1.0, bar_style='info', layout=Layout(width='20px'), max=1.0…"
      ]
     },
     "metadata": {},
     "output_type": "display_data"
    },
    {
     "name": "stdout",
     "output_type": "stream",
     "text": [
      "\n",
      "Epoch: 16/48..  Training Loss: 1.515.. \n",
      "Eval Loss: 1.429.. \n"
     ]
    },
    {
     "data": {
      "application/vnd.jupyter.widget-view+json": {
       "model_id": "a856dbe9ff364388bd8803a16943b607",
       "version_major": 2,
       "version_minor": 0
      },
      "text/plain": [
       "HBox(children=(HTML(value=''), FloatProgress(value=1.0, bar_style='info', layout=Layout(width='20px'), max=1.0…"
      ]
     },
     "metadata": {},
     "output_type": "display_data"
    },
    {
     "name": "stdout",
     "output_type": "stream",
     "text": [
      "\n",
      "Epoch: 17/48..  Training Loss: 1.481.. \n",
      "Eval Loss: 1.414.. \n"
     ]
    },
    {
     "data": {
      "application/vnd.jupyter.widget-view+json": {
       "model_id": "f66835138e0a4d5bac05368213ae30ef",
       "version_major": 2,
       "version_minor": 0
      },
      "text/plain": [
       "HBox(children=(HTML(value=''), FloatProgress(value=1.0, bar_style='info', layout=Layout(width='20px'), max=1.0…"
      ]
     },
     "metadata": {},
     "output_type": "display_data"
    },
    {
     "name": "stdout",
     "output_type": "stream",
     "text": [
      "\n",
      "Epoch: 18/48..  Training Loss: 1.454.. \n",
      "Eval Loss: 1.383.. \n"
     ]
    },
    {
     "data": {
      "application/vnd.jupyter.widget-view+json": {
       "model_id": "9af632a04ea748dbbc11191ddb7b5d5a",
       "version_major": 2,
       "version_minor": 0
      },
      "text/plain": [
       "HBox(children=(HTML(value=''), FloatProgress(value=1.0, bar_style='info', layout=Layout(width='20px'), max=1.0…"
      ]
     },
     "metadata": {},
     "output_type": "display_data"
    },
    {
     "name": "stdout",
     "output_type": "stream",
     "text": [
      "\n",
      "Epoch: 19/48..  Training Loss: 1.431.. \n",
      "Eval Loss: 1.361.. \n"
     ]
    },
    {
     "data": {
      "application/vnd.jupyter.widget-view+json": {
       "model_id": "a12eac7710f64c8b96250321bae46f7a",
       "version_major": 2,
       "version_minor": 0
      },
      "text/plain": [
       "HBox(children=(HTML(value=''), FloatProgress(value=1.0, bar_style='info', layout=Layout(width='20px'), max=1.0…"
      ]
     },
     "metadata": {},
     "output_type": "display_data"
    },
    {
     "name": "stdout",
     "output_type": "stream",
     "text": [
      "\n",
      "Epoch: 20/48..  Training Loss: 1.412.. \n",
      "Eval Loss: 1.337.. \n"
     ]
    },
    {
     "data": {
      "application/vnd.jupyter.widget-view+json": {
       "model_id": "3bbf65fce79647b1bf264a1737dd222a",
       "version_major": 2,
       "version_minor": 0
      },
      "text/plain": [
       "HBox(children=(HTML(value=''), FloatProgress(value=1.0, bar_style='info', layout=Layout(width='20px'), max=1.0…"
      ]
     },
     "metadata": {},
     "output_type": "display_data"
    },
    {
     "name": "stdout",
     "output_type": "stream",
     "text": [
      "\n",
      "Epoch: 21/48..  Training Loss: 1.391.. \n",
      "Eval Loss: 1.320.. \n"
     ]
    },
    {
     "data": {
      "application/vnd.jupyter.widget-view+json": {
       "model_id": "ebabaea9ac1249f4be5f6f2e900c187e",
       "version_major": 2,
       "version_minor": 0
      },
      "text/plain": [
       "HBox(children=(HTML(value=''), FloatProgress(value=1.0, bar_style='info', layout=Layout(width='20px'), max=1.0…"
      ]
     },
     "metadata": {},
     "output_type": "display_data"
    },
    {
     "name": "stdout",
     "output_type": "stream",
     "text": [
      "\n",
      "Epoch: 22/48..  Training Loss: 1.375.. \n",
      "Eval Loss: 1.303.. \n"
     ]
    },
    {
     "data": {
      "application/vnd.jupyter.widget-view+json": {
       "model_id": "1c2d6637748d4e8281def1f951ea707e",
       "version_major": 2,
       "version_minor": 0
      },
      "text/plain": [
       "HBox(children=(HTML(value=''), FloatProgress(value=1.0, bar_style='info', layout=Layout(width='20px'), max=1.0…"
      ]
     },
     "metadata": {},
     "output_type": "display_data"
    },
    {
     "name": "stdout",
     "output_type": "stream",
     "text": [
      "\n",
      "Epoch: 23/48..  Training Loss: 1.361.. \n",
      "Eval Loss: 1.297.. \n"
     ]
    },
    {
     "data": {
      "application/vnd.jupyter.widget-view+json": {
       "model_id": "9dfa0c708bff4b769790217c74374304",
       "version_major": 2,
       "version_minor": 0
      },
      "text/plain": [
       "HBox(children=(HTML(value=''), FloatProgress(value=1.0, bar_style='info', layout=Layout(width='20px'), max=1.0…"
      ]
     },
     "metadata": {},
     "output_type": "display_data"
    },
    {
     "name": "stdout",
     "output_type": "stream",
     "text": [
      "\n",
      "Epoch: 24/48..  Training Loss: 1.343.. \n",
      "Eval Loss: 1.312.. \n"
     ]
    },
    {
     "data": {
      "application/vnd.jupyter.widget-view+json": {
       "model_id": "d047e7b3738941969f02696a711e85a9",
       "version_major": 2,
       "version_minor": 0
      },
      "text/plain": [
       "HBox(children=(HTML(value=''), FloatProgress(value=1.0, bar_style='info', layout=Layout(width='20px'), max=1.0…"
      ]
     },
     "metadata": {},
     "output_type": "display_data"
    },
    {
     "name": "stdout",
     "output_type": "stream",
     "text": [
      "\n",
      "Epoch: 25/48..  Training Loss: 1.331.. \n",
      "Eval Loss: 1.264.. \n"
     ]
    },
    {
     "data": {
      "application/vnd.jupyter.widget-view+json": {
       "model_id": "8062b95e40c141e685fb5c9882c30dc5",
       "version_major": 2,
       "version_minor": 0
      },
      "text/plain": [
       "HBox(children=(HTML(value=''), FloatProgress(value=1.0, bar_style='info', layout=Layout(width='20px'), max=1.0…"
      ]
     },
     "metadata": {},
     "output_type": "display_data"
    },
    {
     "name": "stdout",
     "output_type": "stream",
     "text": [
      "\n",
      "Epoch: 26/48..  Training Loss: 1.316.. \n",
      "Eval Loss: 1.250.. \n"
     ]
    },
    {
     "data": {
      "application/vnd.jupyter.widget-view+json": {
       "model_id": "a6e1ae612998478284e3461eeb75031b",
       "version_major": 2,
       "version_minor": 0
      },
      "text/plain": [
       "HBox(children=(HTML(value=''), FloatProgress(value=1.0, bar_style='info', layout=Layout(width='20px'), max=1.0…"
      ]
     },
     "metadata": {},
     "output_type": "display_data"
    },
    {
     "name": "stdout",
     "output_type": "stream",
     "text": [
      "\n",
      "Epoch: 27/48..  Training Loss: 1.300.. \n",
      "Eval Loss: 1.237.. \n"
     ]
    },
    {
     "data": {
      "application/vnd.jupyter.widget-view+json": {
       "model_id": "fa3a0cdb31cd4ef388fbde3526814945",
       "version_major": 2,
       "version_minor": 0
      },
      "text/plain": [
       "HBox(children=(HTML(value=''), FloatProgress(value=1.0, bar_style='info', layout=Layout(width='20px'), max=1.0…"
      ]
     },
     "metadata": {},
     "output_type": "display_data"
    },
    {
     "name": "stdout",
     "output_type": "stream",
     "text": [
      "\n",
      "Epoch: 28/48..  Training Loss: 1.291.. \n",
      "Eval Loss: 1.243.. \n"
     ]
    },
    {
     "data": {
      "application/vnd.jupyter.widget-view+json": {
       "model_id": "cdbac0b306ba4bb1a7dc1c712efaf247",
       "version_major": 2,
       "version_minor": 0
      },
      "text/plain": [
       "HBox(children=(HTML(value=''), FloatProgress(value=1.0, bar_style='info', layout=Layout(width='20px'), max=1.0…"
      ]
     },
     "metadata": {},
     "output_type": "display_data"
    },
    {
     "name": "stdout",
     "output_type": "stream",
     "text": [
      "\n",
      "Epoch: 29/48..  Training Loss: 1.281.. \n",
      "Eval Loss: 1.216.. \n"
     ]
    },
    {
     "data": {
      "application/vnd.jupyter.widget-view+json": {
       "model_id": "2c0e3184522d498d9960e9675673e32c",
       "version_major": 2,
       "version_minor": 0
      },
      "text/plain": [
       "HBox(children=(HTML(value=''), FloatProgress(value=1.0, bar_style='info', layout=Layout(width='20px'), max=1.0…"
      ]
     },
     "metadata": {},
     "output_type": "display_data"
    },
    {
     "name": "stdout",
     "output_type": "stream",
     "text": [
      "\n",
      "Epoch: 30/48..  Training Loss: 1.271.. \n",
      "Eval Loss: 1.195.. \n"
     ]
    },
    {
     "data": {
      "application/vnd.jupyter.widget-view+json": {
       "model_id": "6e0191f237b94e09af8357a8dcbcc25e",
       "version_major": 2,
       "version_minor": 0
      },
      "text/plain": [
       "HBox(children=(HTML(value=''), FloatProgress(value=1.0, bar_style='info', layout=Layout(width='20px'), max=1.0…"
      ]
     },
     "metadata": {},
     "output_type": "display_data"
    },
    {
     "name": "stdout",
     "output_type": "stream",
     "text": [
      "\n",
      "Epoch: 31/48..  Training Loss: 1.270.. \n",
      "Eval Loss: 1.262.. \n"
     ]
    },
    {
     "data": {
      "application/vnd.jupyter.widget-view+json": {
       "model_id": "bb207ebe29964a9c85a0e9233fe2e8fa",
       "version_major": 2,
       "version_minor": 0
      },
      "text/plain": [
       "HBox(children=(HTML(value=''), FloatProgress(value=1.0, bar_style='info', layout=Layout(width='20px'), max=1.0…"
      ]
     },
     "metadata": {},
     "output_type": "display_data"
    },
    {
     "name": "stdout",
     "output_type": "stream",
     "text": [
      "\n",
      "Epoch: 32/48..  Training Loss: 1.275.. \n",
      "Eval Loss: 1.190.. \n"
     ]
    },
    {
     "data": {
      "application/vnd.jupyter.widget-view+json": {
       "model_id": "0a40416b5d0540e0a21d3942a16c6e08",
       "version_major": 2,
       "version_minor": 0
      },
      "text/plain": [
       "HBox(children=(HTML(value=''), FloatProgress(value=1.0, bar_style='info', layout=Layout(width='20px'), max=1.0…"
      ]
     },
     "metadata": {},
     "output_type": "display_data"
    },
    {
     "name": "stdout",
     "output_type": "stream",
     "text": [
      "\n",
      "Epoch: 33/48..  Training Loss: 1.249.. \n"
     ]
    },
    {
     "data": {
      "application/vnd.jupyter.widget-view+json": {
       "model_id": "58360ff51b0344218eddde4b3b17f914",
       "version_major": 2,
       "version_minor": 0
      },
      "text/plain": [
       "HBox(children=(HTML(value=''), FloatProgress(value=1.0, bar_style='info', layout=Layout(width='20px'), max=1.0…"
      ]
     },
     "metadata": {},
     "output_type": "display_data"
    },
    {
     "name": "stdout",
     "output_type": "stream",
     "text": [
      "\n",
      "Epoch: 34/48..  Training Loss: 1.239.. \n",
      "Eval Loss: 1.165.. \n"
     ]
    },
    {
     "data": {
      "application/vnd.jupyter.widget-view+json": {
       "model_id": "bd942cfca26f4b0e83fdf8b9466d2f12",
       "version_major": 2,
       "version_minor": 0
      },
      "text/plain": [
       "HBox(children=(HTML(value=''), FloatProgress(value=1.0, bar_style='info', layout=Layout(width='20px'), max=1.0…"
      ]
     },
     "metadata": {},
     "output_type": "display_data"
    },
    {
     "name": "stdout",
     "output_type": "stream",
     "text": [
      "\n",
      "Epoch: 35/48..  Training Loss: 1.234.. \n",
      "Eval Loss: 1.167.. \n"
     ]
    },
    {
     "data": {
      "application/vnd.jupyter.widget-view+json": {
       "model_id": "652f682ed2cc4d5caa881428454b483f",
       "version_major": 2,
       "version_minor": 0
      },
      "text/plain": [
       "HBox(children=(HTML(value=''), FloatProgress(value=1.0, bar_style='info', layout=Layout(width='20px'), max=1.0…"
      ]
     },
     "metadata": {},
     "output_type": "display_data"
    },
    {
     "name": "stdout",
     "output_type": "stream",
     "text": [
      "\n",
      "Epoch: 36/48..  Training Loss: 1.228.. \n",
      "Eval Loss: 1.173.. \n"
     ]
    },
    {
     "data": {
      "application/vnd.jupyter.widget-view+json": {
       "model_id": "f75548a679fc465dbcf0e61827beca50",
       "version_major": 2,
       "version_minor": 0
      },
      "text/plain": [
       "HBox(children=(HTML(value=''), FloatProgress(value=1.0, bar_style='info', layout=Layout(width='20px'), max=1.0…"
      ]
     },
     "metadata": {},
     "output_type": "display_data"
    },
    {
     "name": "stdout",
     "output_type": "stream",
     "text": [
      "\n",
      "Epoch: 37/48..  Training Loss: 1.222.. \n",
      "Eval Loss: 1.182.. \n"
     ]
    },
    {
     "data": {
      "application/vnd.jupyter.widget-view+json": {
       "model_id": "c441ae9c0d8f4f64af5a45940a9ebf95",
       "version_major": 2,
       "version_minor": 0
      },
      "text/plain": [
       "HBox(children=(HTML(value=''), FloatProgress(value=1.0, bar_style='info', layout=Layout(width='20px'), max=1.0…"
      ]
     },
     "metadata": {},
     "output_type": "display_data"
    },
    {
     "name": "stdout",
     "output_type": "stream",
     "text": [
      "\n",
      "Epoch: 38/48..  Training Loss: 1.215.. \n",
      "Eval Loss: 1.143.. \n"
     ]
    },
    {
     "data": {
      "application/vnd.jupyter.widget-view+json": {
       "model_id": "cce9f4b000db41c3887638b56d490e43",
       "version_major": 2,
       "version_minor": 0
      },
      "text/plain": [
       "HBox(children=(HTML(value=''), FloatProgress(value=1.0, bar_style='info', layout=Layout(width='20px'), max=1.0…"
      ]
     },
     "metadata": {},
     "output_type": "display_data"
    },
    {
     "name": "stdout",
     "output_type": "stream",
     "text": [
      "\n",
      "Epoch: 39/48..  Training Loss: 1.214.. \n",
      "Eval Loss: 1.155.. \n"
     ]
    },
    {
     "data": {
      "application/vnd.jupyter.widget-view+json": {
       "model_id": "ca0967631fc540bb836fb8d0d94ba443",
       "version_major": 2,
       "version_minor": 0
      },
      "text/plain": [
       "HBox(children=(HTML(value=''), FloatProgress(value=1.0, bar_style='info', layout=Layout(width='20px'), max=1.0…"
      ]
     },
     "metadata": {},
     "output_type": "display_data"
    },
    {
     "name": "stdout",
     "output_type": "stream",
     "text": [
      "\n",
      "Epoch: 40/48..  Training Loss: 1.206.. \n",
      "Eval Loss: 1.135.. \n"
     ]
    },
    {
     "data": {
      "application/vnd.jupyter.widget-view+json": {
       "model_id": "e071393e263f41a8ab0ec279fd4cdbf2",
       "version_major": 2,
       "version_minor": 0
      },
      "text/plain": [
       "HBox(children=(HTML(value=''), FloatProgress(value=1.0, bar_style='info', layout=Layout(width='20px'), max=1.0…"
      ]
     },
     "metadata": {},
     "output_type": "display_data"
    },
    {
     "name": "stdout",
     "output_type": "stream",
     "text": [
      "\n",
      "Epoch: 41/48..  Training Loss: 1.198.. \n",
      "Eval Loss: 1.142.. \n"
     ]
    },
    {
     "data": {
      "application/vnd.jupyter.widget-view+json": {
       "model_id": "df5fbbe92da3468b8c16b18aaa3c7dbd",
       "version_major": 2,
       "version_minor": 0
      },
      "text/plain": [
       "HBox(children=(HTML(value=''), FloatProgress(value=1.0, bar_style='info', layout=Layout(width='20px'), max=1.0…"
      ]
     },
     "metadata": {},
     "output_type": "display_data"
    },
    {
     "name": "stdout",
     "output_type": "stream",
     "text": [
      "\n",
      "Epoch: 42/48..  Training Loss: 1.192.. \n",
      "Eval Loss: 1.124.. \n"
     ]
    },
    {
     "data": {
      "application/vnd.jupyter.widget-view+json": {
       "model_id": "1727751b8e9145b3b3c414691be50b77",
       "version_major": 2,
       "version_minor": 0
      },
      "text/plain": [
       "HBox(children=(HTML(value=''), FloatProgress(value=1.0, bar_style='info', layout=Layout(width='20px'), max=1.0…"
      ]
     },
     "metadata": {},
     "output_type": "display_data"
    },
    {
     "name": "stdout",
     "output_type": "stream",
     "text": [
      "\n",
      "Epoch: 43/48..  Training Loss: 1.185.. \n",
      "Eval Loss: 1.241.. \n"
     ]
    },
    {
     "data": {
      "application/vnd.jupyter.widget-view+json": {
       "model_id": "72efda9bf0d1467088a51eec5d79c81c",
       "version_major": 2,
       "version_minor": 0
      },
      "text/plain": [
       "HBox(children=(HTML(value=''), FloatProgress(value=1.0, bar_style='info', layout=Layout(width='20px'), max=1.0…"
      ]
     },
     "metadata": {},
     "output_type": "display_data"
    },
    {
     "name": "stdout",
     "output_type": "stream",
     "text": [
      "\n",
      "Epoch: 44/48..  Training Loss: 1.185.. \n",
      "Eval Loss: 1.118.. \n"
     ]
    },
    {
     "data": {
      "application/vnd.jupyter.widget-view+json": {
       "model_id": "2a48b6e4f17b429cbcc6d047f4a64c4f",
       "version_major": 2,
       "version_minor": 0
      },
      "text/plain": [
       "HBox(children=(HTML(value=''), FloatProgress(value=1.0, bar_style='info', layout=Layout(width='20px'), max=1.0…"
      ]
     },
     "metadata": {},
     "output_type": "display_data"
    },
    {
     "name": "stdout",
     "output_type": "stream",
     "text": [
      "\n",
      "Epoch: 45/48..  Training Loss: 1.178.. \n",
      "Eval Loss: 1.108.. \n"
     ]
    },
    {
     "data": {
      "application/vnd.jupyter.widget-view+json": {
       "model_id": "8b63e26e050f45eeade30efbc7ae70b6",
       "version_major": 2,
       "version_minor": 0
      },
      "text/plain": [
       "HBox(children=(HTML(value=''), FloatProgress(value=1.0, bar_style='info', layout=Layout(width='20px'), max=1.0…"
      ]
     },
     "metadata": {},
     "output_type": "display_data"
    },
    {
     "name": "stdout",
     "output_type": "stream",
     "text": [
      "\n",
      "Epoch: 46/48..  Training Loss: 1.177.. \n",
      "Eval Loss: 1.107.. \n"
     ]
    },
    {
     "data": {
      "application/vnd.jupyter.widget-view+json": {
       "model_id": "f8656debc950459a9beb5bab2d023fbd",
       "version_major": 2,
       "version_minor": 0
      },
      "text/plain": [
       "HBox(children=(HTML(value=''), FloatProgress(value=1.0, bar_style='info', layout=Layout(width='20px'), max=1.0…"
      ]
     },
     "metadata": {},
     "output_type": "display_data"
    },
    {
     "name": "stdout",
     "output_type": "stream",
     "text": [
      "\n",
      "Epoch: 47/48..  Training Loss: 1.173.. \n",
      "Eval Loss: 1.101.. \n"
     ]
    },
    {
     "data": {
      "application/vnd.jupyter.widget-view+json": {
       "model_id": "db5ff551602c4b21b18a8c285459aa72",
       "version_major": 2,
       "version_minor": 0
      },
      "text/plain": [
       "HBox(children=(HTML(value=''), FloatProgress(value=1.0, bar_style='info', layout=Layout(width='20px'), max=1.0…"
      ]
     },
     "metadata": {},
     "output_type": "display_data"
    },
    {
     "name": "stdout",
     "output_type": "stream",
     "text": [
      "\n",
      "Epoch: 48/48..  Training Loss: 1.166.. \n",
      "Eval Loss: 1.111.. \n"
     ]
    }
   ],
   "source": [
    "from sklearn.model_selection import train_test_split\n",
    "\n",
    "device = torch.device('cuda' if torch.cuda.is_available() else 'cpu')\n",
    "\n",
    "# load data\n",
    "data, word2ix, ix2word = load_data(DATA_PATH)\n",
    "\n",
    "# path to save the model\n",
    "if not os.path.exists(MODEL_SAVE_PATH):\n",
    "    os.mkdir(MODEL_SAVE_PATH)\n",
    "\n",
    "# set validation set\n",
    "_, data_eval = train_test_split(data, train_size=0.8, test_size=0.2, random_state=0)\n",
    "data_train, data_eval = torch.from_numpy(data), torch.from_numpy(data_eval)\n",
    "\n",
    "# train and test data loader\n",
    "train_loader = DataLoader(data_train,\n",
    "                          batch_size=BATCH_SIZE,\n",
    "                          shuffle=True,\n",
    "                          num_workers=2)\n",
    "eval_loader = DataLoader(data_eval, \n",
    "                         batch_size=BATCH_SIZE,\n",
    "                         shuffle=True,\n",
    "                         num_workers=2)\n",
    "\n",
    "vocab_size = len(word2ix)\n",
    "model = LSTM(vocab_size, EMBEDDING_DIM, HIDDEN_SIZE).to(device)  \n",
    "\n",
    "# For pretraining\n",
    "# model.load_state_dict(torch.load('./model/LSTM.pth', map_location=device))\n",
    "\n",
    "optimizer = optim.Adam(model.parameters(), lr=LEARNING_RATE)\n",
    "criterion = nn.CrossEntropyLoss()\n",
    "\n",
    "# begin training\n",
    "train_losses = []\n",
    "test_losses = []\n",
    "for epoch in range(1, EPOCH + 1):\n",
    "    running_loss_train = train(model, device, train_loader, optimizer, epoch, criterion)\n",
    "    running_loss_test = test(model, device, eval_loader, criterion)\n",
    "    \n",
    "    train_losses.append(running_loss_train)\n",
    "    test_losses.append(running_loss_test)\n",
    "    \n",
    "    torch.save(model.state_dict(), './model/LSTM_epoch{}.pth'.format(epoch))\n",
    "\n",
    "torch.save(model.state_dict(), './model/LSTM.pth')"
   ]
  },
  {
   "cell_type": "code",
   "execution_count": 8,
   "metadata": {},
   "outputs": [
    {
     "data": {
      "image/png": "[encoded data removed]",
      "text/plain": [
       "<Figure size 432x288 with 1 Axes>"
      ]
     },
     "metadata": {
      "needs_background": "light"
     },
     "output_type": "display_data"
    }
   ],
   "source": [
    "# evaluate the result\n",
    "%matplotlib inline\n",
    "epochs = range(EPOCH)\n",
    "\n",
    "# plot training & validation accuracy per epoch\n",
    "plt.plot(epochs, train_losses, label='Training Loss')\n",
    "plt.plot(epochs, test_losses, label='Test Loss')\n",
    "plt.title('Training and test loss')\n",
    "plt.legend()\n",
    "plt.show()"
   ]
  },
  {
   "cell_type": "code",
   "execution_count": 12,
   "metadata": {},
   "outputs": [],
   "source": [
    "# generate a poem from the first sentence\n",
    "def generate(model, start_char, poem_length, ix2word, word2ix, device):\n",
    "    results = list(start_char)\n",
    "    start_words_len = len(start_char)\n",
    "\n",
    "    input_ = torch.Tensor([word2ix['<START>']]).view(1, 1).long().to(device)\n",
    "    hidden = torch.zeros((2, NUM_LAYERS, 1, HIDDEN_SIZE),dtype=torch.float).to(device)\n",
    "    model = model.to(device)\n",
    "    model.eval()\n",
    "    with torch.no_grad():\n",
    "        for i in range(poem_length):\n",
    "            output, hidden = model(input_, hidden)\n",
    "            if i < start_words_len:\n",
    "                char = results[i]\n",
    "                input_ = input_.data.new([word2ix[char]]).view(1, 1)\n",
    "            else:\n",
    "                top_index = output.data[0].topk(1)[1][0].item()\n",
    "                char = ix2word[top_index]\n",
    "                results.append(char)\n",
    "                input_ = input_.data.new([top_index]).view(1, 1)\n",
    "            if char == '<EOP>': \n",
    "                del results[-1]\n",
    "                break\n",
    "        return results"
   ]
  },
  {
   "cell_type": "code",
   "execution_count": 13,
   "metadata": {},
   "outputs": [],
   "source": [
    "# generate a poem from the initial character of each sentence\n",
    "def generate_initials(model, start_char, poem_style, ix2word, word2ix, device):\n",
    "    results = []\n",
    "    total_sentences = math.ceil(len(start_char)/2) * 2 # poems usually have even sentences\n",
    "    poem_length = total_sentences * (poem_style+1)\n",
    "    num_sentences = 0\n",
    "    pre_char = '<START>'\n",
    "\n",
    "    input_ = torch.Tensor([word2ix['<START>']]).view(1, 1).long().to(device)\n",
    "    hidden = None\n",
    "    model = model.to(device)\n",
    "    model.eval()   \n",
    "    \n",
    "    with torch.no_grad():\n",
    "        for i in range(poem_length):\n",
    "            output, hidden = model(input_, hidden)\n",
    "            top_index = output.data[0].topk(1)[1][0].item()\n",
    "            char = ix2word[top_index]\n",
    "            \n",
    "            if pre_char in {'。', '，', '?', '！', '<START>'}:\n",
    "                if num_sentences == total_sentences:\n",
    "                    break\n",
    "                elif num_sentences == len(start_char):\n",
    "                    char = ix2word[top_index]\n",
    "                    input_ = input_.data.new([top_index]).view(1, 1)\n",
    "                    num_sentences += 1\n",
    "                else:\n",
    "                    char = start_char[num_sentences]\n",
    "                    num_sentences += 1\n",
    "                    input_ = input_.data.new([word2ix[char]]).view(1, 1)\n",
    "            else:\n",
    "                input_ = input_.data.new([top_index]).view(1, 1)\n",
    "            results.append(char)\n",
    "            pre_char = char\n",
    "        return results"
   ]
  },
  {
   "cell_type": "code",
   "execution_count": 14,
   "metadata": {},
   "outputs": [
    {
     "name": "stdout",
     "output_type": "stream",
     "text": [
      "雁栖有何人，时有平阳客。自古古来书，有诗多不饱。我生西之间，君子不相识。一见如来人，一日无所欲。\n",
      "端拙须长叹，午年何所为。安贫即此路，康乐当及时。\n"
     ]
    }
   ],
   "source": [
    "# model application\n",
    "model.load_state_dict(torch.load('./model/LSTM_epoch40.pth'))\n",
    "\n",
    "start_chars = '雁栖'\n",
    "poem_length = 48\n",
    "results = generate(model, start_chars, poem_length, ix2word, word2ix, device)\n",
    "print(''.join(i for i in results))\n",
    "\n",
    "initial_chars = '端午安康'\n",
    "poem_style = 5\n",
    "results = generate_initials(model, initial_chars, poem_style, ix2word, word2ix, device)\n",
    "print(''.join(i for i in results))"
   ]
  }
 ],
 "metadata": {
  "kernelspec": {
   "display_name": "Python 3",
   "language": "python",
   "name": "python3"
  },
  "language_info": {
   "codemirror_mode": {
    "name": "ipython",
    "version": 3
   },
   "file_extension": ".py",
   "mimetype": "text/x-python",
   "name": "python",
   "nbconvert_exporter": "python",
   "pygments_lexer": "ipython3",
   "version": "3.6.9"
  },
  "tianchi_metadata": {
   "competitions": [],
   "datasets": [],
   "description": "",
   "notebookId": "51481",
   "source": "ailab"
  }
 },
 "nbformat": 4,
 "nbformat_minor": 4
}
