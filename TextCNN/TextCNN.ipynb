{
 "cells": [
  {
   "cell_type": "code",
   "execution_count": 1,
   "metadata": {},
   "outputs": [
    {
     "name": "stdout",
     "output_type": "stream",
     "text": [
      "Defaulting to user installation because normal site-packages is not writeable\n",
      "Looking in indexes: https://mirrors.cloud.aliyuncs.com/pypi/simple\n",
      "Requirement already satisfied: pip in /home/admin/.local/lib/python3.6/site-packages (21.1.3)\n",
      "Defaulting to user installation because normal site-packages is not writeable\n",
      "Looking in indexes: https://mirrors.cloud.aliyuncs.com/pypi/simple\n",
      "Requirement already satisfied: jieba in /home/admin/.local/lib/python3.6/site-packages (0.42.1)\n",
      "Defaulting to user installation because normal site-packages is not writeable\n",
      "Looking in indexes: https://mirrors.cloud.aliyuncs.com/pypi/simple\n",
      "Requirement already satisfied: gensim in /home/admin/.local/lib/python3.6/site-packages (4.0.1)\n",
      "Requirement already satisfied: numpy>=1.11.3 in /home/admin/.local/lib/python3.6/site-packages (from gensim) (1.19.5)\n",
      "Requirement already satisfied: smart-open>=1.8.1 in /home/admin/.local/lib/python3.6/site-packages (from gensim) (5.1.0)\n",
      "Requirement already satisfied: dataclasses in /home/admin/.local/lib/python3.6/site-packages (from gensim) (0.8)\n",
      "Requirement already satisfied: scipy>=0.18.1 in /home/admin/.local/lib/python3.6/site-packages (from gensim) (1.4.1)\n",
      "Defaulting to user installation because normal site-packages is not writeable\n",
      "Looking in indexes: https://mirrors.cloud.aliyuncs.com/pypi/simple\n",
      "Requirement already satisfied: numpy in /home/admin/.local/lib/python3.6/site-packages (1.19.5)\n",
      "Defaulting to user installation because normal site-packages is not writeable\n",
      "Looking in indexes: https://mirrors.cloud.aliyuncs.com/pypi/simple\n",
      "Requirement already satisfied: python-Levenshtein in /home/admin/.local/lib/python3.6/site-packages (0.12.2)\n",
      "Requirement already satisfied: setuptools in /usr/local/lib/python3.6/dist-packages (from python-Levenshtein) (50.3.2)\n"
     ]
    }
   ],
   "source": [
    "!pip install --upgrade pip\n",
    "!pip install jieba\n",
    "!pip install gensim\n",
    "!pip install --upgrade numpy # required version newer than 1.17\n",
    "!pip install python-Levenshtein"
   ]
  },
  {
   "cell_type": "code",
   "execution_count": null,
   "metadata": {},
   "outputs": [],
   "source": [
    "from __future__ import absolute_import, division, print_function\n",
    "\n",
    "import torch\n",
    "from torch.utils.data import TensorDataset, DataLoader\n",
    "from torch import optim\n",
    "from torch import nn\n",
    "from torch.autograd import Variable\n",
    "\n",
    "import numpy as np\n",
    "import jieba\n",
    "import gensim\n",
    "import os\n",
    "from tqdm import tqdm\n",
    "from collections import Counter\n",
    "\n",
    "import math\n",
    "import matplotlib.pyplot as plt"
   ]
  },
  {
   "cell_type": "code",
   "execution_count": null,
   "metadata": {
    "scrolled": true
   },
   "outputs": [],
   "source": [
    "# param configuration\n",
    "DATASET_PATH = 'Dataset.zip'\n",
    "TRAIN_PATH = './Dataset/train.txt'\n",
    "VAL_PATH = './Dataset/validation.txt'\n",
    "TEST_PATH = './Dataset/test.txt'\n",
    "MODEL_SAVE_PATH = './Model'\n",
    "MAX_LEN = 50\n",
    "\n",
    "# model params\n",
    "VOCAB_SIZE = 58954\n",
    "NUM_CLASSES = 2\n",
    "EMB_DIM = 50\n",
    "HIDDEN_NUM = 256\n",
    "NUM_FILTERS = 100\n",
    "K1 = 3\n",
    "K2 = 4\n",
    "K3 = 5\n",
    "\n",
    "# training params\n",
    "EPOCH = 16\n",
    "BATCH_SIZE = 32\n",
    "LR = 0.0001\n",
    "DROPOUT_RATE = 0.6"
   ]
  },
  {
   "cell_type": "code",
   "execution_count": null,
   "metadata": {},
   "outputs": [],
   "source": [
    "# build word dict: {word: id}\n",
    "def build_word2id(filepath, save_word2id=None):\n",
    "    # init the dict\n",
    "    word2id = {'_PAD_': 0}\n",
    "    path = [TRAIN_PATH, VAL_PATH]\n",
    "    \n",
    "    # build the dict\n",
    "    for _path in path:\n",
    "        with open(_path, encoding='utf-8') as f:\n",
    "            # read line by line\n",
    "            for line in f.readlines():\n",
    "                # split a string into a list of strings \n",
    "                sp = line.strip().split()\n",
    "                # skip the first classification label ('0'or'1')\n",
    "                for word in sp[1:]:\n",
    "                    if word not in word2id.keys():\n",
    "                        # append the word into word2id list\n",
    "                        word2id[word] = len(word2id)\n",
    "                        \n",
    "    # save the dict       \n",
    "    if save_word2id:\n",
    "        with open(filepath, 'w', encoding='utf-8') as f:\n",
    "            for w in word2id:\n",
    "                f.write(w+'\\t')\n",
    "                f.write(str(word2id[w]))\n",
    "                f.write('\\n')\n",
    "    \n",
    "    return word2id"
   ]
  },
  {
   "cell_type": "code",
   "execution_count": null,
   "metadata": {},
   "outputs": [],
   "source": [
    "# build word2vec based on pretrained word2vec wiki\n",
    "def build_word2vec(fname_pretrained, word2id, save_word2vec=None):\n",
    "    n_words = max(word2id.values()) + 1\n",
    "    model = gensim.models.KeyedVectors.load_word2vec_format(fname_pretrained, binary=True)\n",
    "    word_vecs = np.array(np.random.uniform(-1., 1., [n_words, model.vector_size]))\n",
    "    \n",
    "    for word in word2id.keys():\n",
    "        try:\n",
    "            word_vecs[word2id[word]] = model[word]\n",
    "        except KeyError:\n",
    "            pass\n",
    "        \n",
    "    if save_word2vec:\n",
    "        with open(save_to_path, 'w', encoding='utf-8') as f:\n",
    "            for vec in word_vecs:\n",
    "                vec = [str(w) for w in vec]\n",
    "                f.write(' '.join(vec))\n",
    "                f.write('\\n')\n",
    "    \n",
    "    return word_vecs"
   ]
  },
  {
   "cell_type": "code",
   "execution_count": null,
   "metadata": {},
   "outputs": [],
   "source": [
    "# load the corpus\n",
    "def load_corpus(filepath, word2id, max_len=MAX_LEN):\n",
    "    comments = []\n",
    "    labels = []\n",
    "    with open(filepath, encoding='utf-8') as f:\n",
    "        for line in f.readlines():\n",
    "            sp = line.strip().split()\n",
    "            if sp:\n",
    "                label = sp[0]\n",
    "                comment = [word2id.get(w, 0) for w in sp[1:]]\n",
    "                comment = comment[:max_len]\n",
    "                if len(comment) < max_len:\n",
    "                    comment += [word2id['_PAD_']] * (max_len - len(comment))\n",
    "                comments.append(comment)\n",
    "                labels.append(label)\n",
    "                        \n",
    "    counter = Counter(labels)\n",
    "    print(counter)\n",
    "    \n",
    "    texts = np.asarray(comments)\n",
    "    label_array = np.array([class2id[l] for l in labels])\n",
    "    return texts, label_array"
   ]
  },
  {
   "cell_type": "code",
   "execution_count": null,
   "metadata": {},
   "outputs": [],
   "source": [
    "# Set up the TextCNN Network\n",
    "class TextCNN(nn.Module):\n",
    "    def __init__(self):\n",
    "        super(TextCNN, self).__init__()\n",
    "        \n",
    "        # embedding layer\n",
    "        self.embedding = nn.Embedding(VOCAB_SIZE, EMB_DIM)\n",
    "        # use pretraining word2vec\n",
    "        self.embedding.weight.data.copy_(torch.from_numpy(word2vec))\n",
    "        self.embedding.weight.requires_grad = True\n",
    "        \n",
    "        # conv layer\n",
    "        filters = [K1, K2, K3]\n",
    "        self.cnn = nn.ModuleList([nn.Sequential(\n",
    "            nn.Conv1d(1, NUM_FILTERS, [k, EMB_DIM]),\n",
    "            nn.ReLU(),\n",
    "            nn.AdaptiveMaxPool2d(1)) for k in filters])\n",
    "        \n",
    "        # output layer\n",
    "        self.dropout = nn.Dropout(DROPOUT_RATE)\n",
    "        self.fc = nn.Linear(NUM_FILTERS * 3, NUM_CLASSES, bias=True)\n",
    "        \n",
    "    def forward(self, input_):\n",
    "        input_ = input_.to(torch.int64)\n",
    "        # embedding layer\n",
    "        embeds = self.embedding(input_).unsqueeze(1)\n",
    "        \n",
    "        # conv layer\n",
    "        cnn = [conv(embeds) for conv in self.cnn]\n",
    "        \n",
    "        # output layer\n",
    "        output = torch.cat(cnn, 1).squeeze(2).squeeze(2)\n",
    "        output = self.dropout(output)\n",
    "        output = self.fc(output)\n",
    "        \n",
    "        return output      "
   ]
  },
  {
   "cell_type": "code",
   "execution_count": null,
   "metadata": {},
   "outputs": [],
   "source": [
    "def train(model, device, train_loader, optimizer, epoch, criterion):\n",
    "    running_loss, running_acc = 0.0, 0.0\n",
    "    count, correct = 0, 0\n",
    "    model.train()\n",
    "    for i, (x, y) in tqdm(enumerate(train_loader)):\n",
    "        x, y = x.to(device), y.to(device)\n",
    "        optimizer.zero_grad()\n",
    "        output = model(x)\n",
    "        loss = criterion(output, y)\n",
    "        loss.backward()\n",
    "        optimizer.step()\n",
    "        running_loss += loss.item()\n",
    "        correct += (output.argmax(1) == y).float().sum().item()\n",
    "        count += len(x)\n",
    "    \n",
    "    running_acc = correct/count\n",
    "    running_loss = running_loss/len(train_loader)\n",
    "    print(\"Epoch: {}/{}.. \".format(epoch, EPOCH),\n",
    "          \"Training Loss: {:.4f}.. \".format(running_loss),\n",
    "          \"Training Acc: {:.2f}%.. \".format(running_acc*100)) \n",
    "    return running_loss, running_acc\n",
    "\n",
    "          \n",
    "def test(model, device, val_loader, criterion):\n",
    "    running_loss, running_acc = 0.0, 0.0\n",
    "    count, correct = 0,0\n",
    "    model.eval()\n",
    "    with torch.no_grad():\n",
    "        for _, (x, y) in enumerate(val_loader):\n",
    "            x, y = x.to(device), y.to(device)\n",
    "            output = model(x)\n",
    "            loss = criterion(output, y)\n",
    "            running_loss += loss.item()\n",
    "            correct += (output.argmax(1) == y).float().sum().item()\n",
    "            count += len(x)\n",
    "    \n",
    "    running_loss = running_loss/len(train_loader)\n",
    "    running_acc = correct/count\n",
    "    print(\"Testing Loss: {:.4f}.. \".format(running_loss),\n",
    "          \"Testing Acc: {:.2f}%.. \".format(running_acc*100)) \n",
    "    return running_loss, running_acc"
   ]
  },
  {
   "cell_type": "code",
   "execution_count": null,
   "metadata": {},
   "outputs": [
    {
     "name": "stdout",
     "output_type": "stream",
     "text": [
      "[INFO]: Finished setting up the word dict of length 58954\n",
      "[INFO]: Finished setting up the word2vec with shape (58954, 50)\n"
     ]
    }
   ],
   "source": [
    "# Main training process\n",
    "device = torch.device('cuda' if torch.cuda.is_available() else 'cpu')\n",
    "\n",
    "# path to save the model\n",
    "if not os.path.exists(MODEL_SAVE_PATH):\n",
    "    os.mkdir(MODEL_SAVE_PATH)\n",
    "\n",
    "# Preps-1: classification category & dict {pos:0, neg:1}\n",
    "classes = ['0', '1']\n",
    "class2id = {cat: idx for (idx, cat) in enumerate(classes)}\n",
    "\n",
    "# Preps-2: word dict and pretrained word2vec\n",
    "word2id = build_word2id('./Dataset/word2id.txt')\n",
    "print('[INFO]: Finished setting up the word dict of length %d' %len(word2id))\n",
    "word2vec = build_word2vec('./Dataset/wiki_word2vec_50.bin', word2id)\n",
    "print('[INFO]: Finished setting up the word2vec with shape (%d, %d)' %np.shape(word2vec))"
   ]
  },
  {
   "cell_type": "code",
   "execution_count": null,
   "metadata": {},
   "outputs": [
    {
     "name": "stdout",
     "output_type": "stream",
     "text": [
      "[INFO]: Loading the corpus, '1': #neg_comments, '0': #pos_comments\n",
      "[INFO]: The training set:\n",
      "Counter({'1': 9999, '0': 9999})\n",
      "[INFO]: The validation set:\n",
      "Counter({'0': 2817, '1': 2812})\n"
     ]
    }
   ],
   "source": [
    "# load training, validation and testing corpus\n",
    "print('[INFO]: Loading the corpus, \\'1\\': #neg_comments, \\'0\\': #pos_comments')\n",
    "print('[INFO]: The training set:')\n",
    "x_train, y_train = load_corpus(TRAIN_PATH, word2id, MAX_LEN)\n",
    "print('[INFO]: The validation set:')\n",
    "x_val, y_val = load_corpus(VAL_PATH, word2id, MAX_LEN)"
   ]
  },
  {
   "cell_type": "code",
   "execution_count": null,
   "metadata": {},
   "outputs": [
    {
     "name": "stderr",
     "output_type": "stream",
     "text": [
      "625it [00:14, 42.20it/s]"
     ]
    },
    {
     "name": "stdout",
     "output_type": "stream",
     "text": [
      "Epoch: 1/16..  Training Loss: 0.6609..  Training Acc: 60.07%.. \n"
     ]
    },
    {
     "name": "stderr",
     "output_type": "stream",
     "text": [
      "\n"
     ]
    },
    {
     "name": "stdout",
     "output_type": "stream",
     "text": [
      "Testing Loss: 0.1681..  Testing Acc: 73.53%.. \n"
     ]
    },
    {
     "name": "stderr",
     "output_type": "stream",
     "text": [
      "625it [00:14, 42.43it/s]"
     ]
    },
    {
     "name": "stdout",
     "output_type": "stream",
     "text": [
      "Epoch: 2/16..  Training Loss: 0.5686..  Training Acc: 71.79%.. \n"
     ]
    },
    {
     "name": "stderr",
     "output_type": "stream",
     "text": [
      "\n"
     ]
    },
    {
     "name": "stdout",
     "output_type": "stream",
     "text": [
      "Testing Loss: 0.1474..  Testing Acc: 75.75%.. \n"
     ]
    },
    {
     "name": "stderr",
     "output_type": "stream",
     "text": [
      "625it [00:14, 42.44it/s]"
     ]
    },
    {
     "name": "stdout",
     "output_type": "stream",
     "text": [
      "Epoch: 3/16..  Training Loss: 0.5047..  Training Acc: 75.53%.. \n"
     ]
    },
    {
     "name": "stderr",
     "output_type": "stream",
     "text": [
      "\n"
     ]
    },
    {
     "name": "stdout",
     "output_type": "stream",
     "text": [
      "Testing Loss: 0.1361..  Testing Acc: 77.30%.. \n"
     ]
    },
    {
     "name": "stderr",
     "output_type": "stream",
     "text": [
      "625it [00:14, 42.32it/s]"
     ]
    },
    {
     "name": "stdout",
     "output_type": "stream",
     "text": [
      "Epoch: 4/16..  Training Loss: 0.4630..  Training Acc: 78.54%.. \n"
     ]
    },
    {
     "name": "stderr",
     "output_type": "stream",
     "text": [
      "\n"
     ]
    },
    {
     "name": "stdout",
     "output_type": "stream",
     "text": [
      "Testing Loss: 0.1299..  Testing Acc: 78.54%.. \n"
     ]
    },
    {
     "name": "stderr",
     "output_type": "stream",
     "text": [
      "625it [00:14, 42.33it/s]"
     ]
    },
    {
     "name": "stdout",
     "output_type": "stream",
     "text": [
      "Epoch: 5/16..  Training Loss: 0.4292..  Training Acc: 80.49%.. \n"
     ]
    },
    {
     "name": "stderr",
     "output_type": "stream",
     "text": [
      "\n"
     ]
    },
    {
     "name": "stdout",
     "output_type": "stream",
     "text": [
      "Testing Loss: 0.1259..  Testing Acc: 79.41%.. \n"
     ]
    },
    {
     "name": "stderr",
     "output_type": "stream",
     "text": [
      "625it [00:14, 42.75it/s]"
     ]
    },
    {
     "name": "stdout",
     "output_type": "stream",
     "text": [
      "Epoch: 6/16..  Training Loss: 0.4023..  Training Acc: 81.84%.. \n"
     ]
    },
    {
     "name": "stderr",
     "output_type": "stream",
     "text": [
      "\n"
     ]
    },
    {
     "name": "stdout",
     "output_type": "stream",
     "text": [
      "Testing Loss: 0.1233..  Testing Acc: 79.50%.. \n"
     ]
    },
    {
     "name": "stderr",
     "output_type": "stream",
     "text": [
      "625it [00:14, 42.20it/s]\n"
     ]
    },
    {
     "name": "stdout",
     "output_type": "stream",
     "text": [
      "Epoch: 7/16..  Training Loss: 0.3814..  Training Acc: 83.20%.. \n",
      "Testing Loss: 0.1209..  Testing Acc: 79.73%.. \n"
     ]
    },
    {
     "name": "stderr",
     "output_type": "stream",
     "text": [
      "625it [00:14, 42.29it/s]"
     ]
    },
    {
     "name": "stdout",
     "output_type": "stream",
     "text": [
      "Epoch: 8/16..  Training Loss: 0.3570..  Training Acc: 84.51%.. \n"
     ]
    },
    {
     "name": "stderr",
     "output_type": "stream",
     "text": [
      "\n"
     ]
    },
    {
     "name": "stdout",
     "output_type": "stream",
     "text": [
      "Testing Loss: 0.1189..  Testing Acc: 80.42%.. \n"
     ]
    },
    {
     "name": "stderr",
     "output_type": "stream",
     "text": [
      "625it [00:14, 42.16it/s]"
     ]
    },
    {
     "name": "stdout",
     "output_type": "stream",
     "text": [
      "Epoch: 9/16..  Training Loss: 0.3371..  Training Acc: 85.72%.. \n"
     ]
    },
    {
     "name": "stderr",
     "output_type": "stream",
     "text": [
      "\n"
     ]
    },
    {
     "name": "stdout",
     "output_type": "stream",
     "text": [
      "Testing Loss: 0.1176..  Testing Acc: 80.74%.. \n"
     ]
    },
    {
     "name": "stderr",
     "output_type": "stream",
     "text": [
      "625it [00:14, 42.78it/s]"
     ]
    },
    {
     "name": "stdout",
     "output_type": "stream",
     "text": [
      "Epoch: 10/16..  Training Loss: 0.3158..  Training Acc: 86.75%.. \n"
     ]
    },
    {
     "name": "stderr",
     "output_type": "stream",
     "text": [
      "\n"
     ]
    },
    {
     "name": "stdout",
     "output_type": "stream",
     "text": [
      "Testing Loss: 0.1166..  Testing Acc: 80.81%.. \n"
     ]
    },
    {
     "name": "stderr",
     "output_type": "stream",
     "text": [
      "625it [00:14, 42.65it/s]"
     ]
    },
    {
     "name": "stdout",
     "output_type": "stream",
     "text": [
      "Epoch: 11/16..  Training Loss: 0.2980..  Training Acc: 87.58%.. \n"
     ]
    },
    {
     "name": "stderr",
     "output_type": "stream",
     "text": [
      "\n"
     ]
    },
    {
     "name": "stdout",
     "output_type": "stream",
     "text": [
      "Testing Loss: 0.1161..  Testing Acc: 81.08%.. \n"
     ]
    },
    {
     "name": "stderr",
     "output_type": "stream",
     "text": [
      "625it [00:14, 42.38it/s]"
     ]
    },
    {
     "name": "stdout",
     "output_type": "stream",
     "text": [
      "Epoch: 12/16..  Training Loss: 0.2792..  Training Acc: 88.55%.. \n"
     ]
    },
    {
     "name": "stderr",
     "output_type": "stream",
     "text": [
      "\n"
     ]
    },
    {
     "name": "stdout",
     "output_type": "stream",
     "text": [
      "Testing Loss: 0.1159..  Testing Acc: 81.36%.. \n"
     ]
    },
    {
     "name": "stderr",
     "output_type": "stream",
     "text": [
      "625it [00:14, 42.33it/s]"
     ]
    },
    {
     "name": "stdout",
     "output_type": "stream",
     "text": [
      "Epoch: 13/16..  Training Loss: 0.2601..  Training Acc: 89.40%.. \n"
     ]
    },
    {
     "name": "stderr",
     "output_type": "stream",
     "text": [
      "\n"
     ]
    },
    {
     "name": "stdout",
     "output_type": "stream",
     "text": [
      "Testing Loss: 0.1152..  Testing Acc: 81.58%.. \n"
     ]
    },
    {
     "name": "stderr",
     "output_type": "stream",
     "text": [
      "625it [00:14, 42.36it/s]"
     ]
    },
    {
     "name": "stdout",
     "output_type": "stream",
     "text": [
      "Epoch: 14/16..  Training Loss: 0.2464..  Training Acc: 90.30%.. \n"
     ]
    },
    {
     "name": "stderr",
     "output_type": "stream",
     "text": [
      "\n"
     ]
    },
    {
     "name": "stdout",
     "output_type": "stream",
     "text": [
      "Testing Loss: 0.1154..  Testing Acc: 81.76%.. \n"
     ]
    },
    {
     "name": "stderr",
     "output_type": "stream",
     "text": [
      "625it [00:14, 42.26it/s]"
     ]
    },
    {
     "name": "stdout",
     "output_type": "stream",
     "text": [
      "Epoch: 15/16..  Training Loss: 0.2282..  Training Acc: 91.03%.. \n"
     ]
    },
    {
     "name": "stderr",
     "output_type": "stream",
     "text": [
      "\n"
     ]
    },
    {
     "name": "stdout",
     "output_type": "stream",
     "text": [
      "Testing Loss: 0.1162..  Testing Acc: 82.27%.. \n"
     ]
    },
    {
     "name": "stderr",
     "output_type": "stream",
     "text": [
      "625it [00:14, 42.55it/s]"
     ]
    },
    {
     "name": "stdout",
     "output_type": "stream",
     "text": [
      "Epoch: 16/16..  Training Loss: 0.2144..  Training Acc: 91.68%.. \n"
     ]
    },
    {
     "name": "stderr",
     "output_type": "stream",
     "text": [
      "\n"
     ]
    },
    {
     "name": "stdout",
     "output_type": "stream",
     "text": [
      "Testing Loss: 0.1168..  Testing Acc: 82.50%.. \n"
     ]
    }
   ],
   "source": [
    "# load data\n",
    "train_dataset = TensorDataset(torch.from_numpy(x_train).type(torch.float), \n",
    "                              torch.from_numpy(y_train).type(torch.long))\n",
    "train_loader = DataLoader(dataset = train_dataset, \n",
    "                          batch_size = BATCH_SIZE, \n",
    "                          shuffle = True, \n",
    "                          num_workers = 2)\n",
    "\n",
    "val_dataset = TensorDataset(torch.from_numpy(x_val).type(torch.float), \n",
    "                            torch.from_numpy(y_val).type(torch.long))\n",
    "val_loader = DataLoader(dataset = val_dataset, \n",
    "                        batch_size = BATCH_SIZE, \n",
    "                        shuffle = True, \n",
    "                        num_workers = 2)\n",
    "\n",
    "model = TextCNN().to(device)\n",
    "\n",
    "# For pretraining\n",
    "# model.load_state_dict(torch.load('./model/TextCNN.pth', map_location=device))\n",
    "\n",
    "# Optimizer and loss \n",
    "optimizer = optim.Adam(model.parameters(), lr=LR)\n",
    "criterion = nn.CrossEntropyLoss()\n",
    "\n",
    "# begin training\n",
    "train_loss = []\n",
    "train_acc = []\n",
    "val_loss = []\n",
    "val_acc = []\n",
    "\n",
    "for epoch in range(1, EPOCH + 1):\n",
    "    running_train_loss, running_train_acc = train(model, device, train_loader, optimizer, epoch, criterion)\n",
    "    running_val_loss, running_val_acc = test(model, device, val_loader, criterion)\n",
    "    \n",
    "    train_loss.append(running_train_loss)\n",
    "    train_acc.append(running_train_acc)\n",
    "    val_loss.append(running_val_loss)\n",
    "    val_acc.append(running_val_acc)\n",
    "\n",
    "    torch.save(model.state_dict(), './Model/TextCNN_epoch{}.pth'.format(epoch))\n",
    "\n",
    "torch.save(model.state_dict(), './Model/TextCNN.pth')"
   ]
  },
  {
   "cell_type": "code",
   "execution_count": null,
   "metadata": {},
   "outputs": [
    {
     "data": {
      "image/png": "[encoded data removed]",
      "text/plain": [
       "<Figure size 432x288 with 1 Axes>"
      ]
     },
     "metadata": {
      "needs_background": "light"
     },
     "output_type": "display_data"
    },
    {
     "data": {
      "image/png": "[encoded data removed]",
      "text/plain": [
       "<Figure size 432x288 with 1 Axes>"
      ]
     },
     "metadata": {
      "needs_background": "light"
     },
     "output_type": "display_data"
    }
   ],
   "source": [
    "# evaluate the result\n",
    "%matplotlib inline\n",
    "epochs = range(EPOCH)\n",
    "\n",
    "# plot training & validation accuracy per epoch\n",
    "plt.plot(epochs, train_loss, label='Training Loss')\n",
    "plt.plot(epochs, val_loss, label='Validation Loss')\n",
    "plt.title('Training and validation loss')\n",
    "plt.legend()\n",
    "plt.show()\n",
    "\n",
    "plt.plot(epochs, train_acc, label='Training Accuracy')\n",
    "plt.plot(epochs, val_acc, label='Validation Accuracy')\n",
    "plt.title('Training and validation accuracy')\n",
    "plt.legend()\n",
    "plt.show()"
   ]
  },
  {
   "cell_type": "code",
   "execution_count": null,
   "metadata": {},
   "outputs": [
    {
     "name": "stdout",
     "output_type": "stream",
     "text": [
      "[INFO]: The testing set:\n",
      "Counter({'1': 187, '0': 182})\n",
      "test accuracy:84.82%.\n"
     ]
    }
   ],
   "source": [
    "# Testing\n",
    "\n",
    "print('[INFO]: The testing set:')\n",
    "\n",
    "# load test dataset\n",
    "x_test, y_test = load_corpus(TEST_PATH, word2id, MAX_LEN)\n",
    "\n",
    "test_dataset = TensorDataset(torch.from_numpy(x_test).type(torch.float), \n",
    "                             torch.from_numpy(y_test).type(torch.long))\n",
    "\n",
    "test_loader = DataLoader(dataset = test_dataset, batch_size = BATCH_SIZE, \n",
    "                            shuffle = False, num_workers = 2)\n",
    "# load model\n",
    "model = TextCNN().to(device)\n",
    "model.load_state_dict(torch.load('./Model/TextCNN.pth'))\n",
    "\n",
    "# Test the accuracy\n",
    "count, correct = 0, 0\n",
    "for _, (x, y) in enumerate(test_loader):\n",
    "    x, y = x.to(device), y.to(device)\n",
    "    output = model(x)\n",
    "    correct += (output.argmax(1) == y).float().sum().item()\n",
    "    count += len(x)\n",
    "    \n",
    "print('test accuracy:{:.2f}%.'.format(100*correct/count))"
   ]
  },
  {
   "cell_type": "code",
   "execution_count": null,
   "metadata": {},
   "outputs": [],
   "source": []
  }
 ],
 "metadata": {
  "kernelspec": {
   "display_name": "Python 3",
   "language": "python",
   "name": "python3"
  },
  "language_info": {
   "codemirror_mode": {
    "name": "ipython",
    "version": 3
   },
   "file_extension": ".py",
   "mimetype": "text/x-python",
   "name": "python",
   "nbconvert_exporter": "python",
   "pygments_lexer": "ipython3",
   "version": "3.6.9"
  },
  "tianchi_metadata": {
   "competitions": [],
   "datasets": [],
   "description": "",
   "notebookId": "51748",
   "source": "ailab"
  }
 },
 "nbformat": 4,
 "nbformat_minor": 4
}